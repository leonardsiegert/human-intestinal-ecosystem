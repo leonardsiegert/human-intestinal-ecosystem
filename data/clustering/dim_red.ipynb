{
 "cells": [
  {
   "cell_type": "code",
   "execution_count": 1,
   "metadata": {},
   "outputs": [],
   "source": [
    "import numpy as np\n",
    "import pandas as pd\n",
    "import matplotlib.pyplot as plt\n",
    "import sklearn\n",
    "from sklearn import preprocessing\n",
    "from sklearn.cluster import DBSCAN\n",
    "from sklearn.cluster import OPTICS\n",
    "from sklearn.cluster import KMeans\n",
    "from sklearn.decomposition import PCA\n",
    "from sklearn.decomposition import KernelPCA\n",
    "from sklearn.manifold import TSNE\n"
   ]
  },
  {
   "cell_type": "code",
   "execution_count": 2,
   "metadata": {},
   "outputs": [
    {
     "data": {
      "text/html": [
       "<div>\n",
       "<style scoped>\n",
       "    .dataframe tbody tr th:only-of-type {\n",
       "        vertical-align: middle;\n",
       "    }\n",
       "\n",
       "    .dataframe tbody tr th {\n",
       "        vertical-align: top;\n",
       "    }\n",
       "\n",
       "    .dataframe thead th {\n",
       "        text-align: right;\n",
       "    }\n",
       "</style>\n",
       "<table border=\"1\" class=\"dataframe\">\n",
       "  <thead>\n",
       "    <tr style=\"text-align: right;\">\n",
       "      <th></th>\n",
       "      <th>Unnamed: 0</th>\n",
       "      <th>SampleID</th>\n",
       "      <th>Age</th>\n",
       "      <th>Sex</th>\n",
       "      <th>Nationality</th>\n",
       "      <th>Diversity</th>\n",
       "      <th>BMI_group</th>\n",
       "      <th>Actinomycetaceae</th>\n",
       "      <th>Aerococcus</th>\n",
       "      <th>Aeromonas</th>\n",
       "      <th>...</th>\n",
       "      <th>Uncultured Clostridium (sensu stricto)les I</th>\n",
       "      <th>Uncultured Clostridium (sensu stricto)les II</th>\n",
       "      <th>Uncultured Mollicutes</th>\n",
       "      <th>Uncultured Selenomonadaceae</th>\n",
       "      <th>Veillonella</th>\n",
       "      <th>Vibrio</th>\n",
       "      <th>Weissella et rel.</th>\n",
       "      <th>Wissella et rel.</th>\n",
       "      <th>Xanthomonadaceae</th>\n",
       "      <th>Yersinia et rel.</th>\n",
       "    </tr>\n",
       "  </thead>\n",
       "  <tbody>\n",
       "    <tr>\n",
       "      <th>0</th>\n",
       "      <td>0</td>\n",
       "      <td>Sample-1</td>\n",
       "      <td>28.0</td>\n",
       "      <td>male</td>\n",
       "      <td>US</td>\n",
       "      <td>5.76</td>\n",
       "      <td>severeobese</td>\n",
       "      <td>72.018955</td>\n",
       "      <td>36.677499</td>\n",
       "      <td>42.602327</td>\n",
       "      <td>...</td>\n",
       "      <td>1104.414062</td>\n",
       "      <td>1028.468474</td>\n",
       "      <td>521.322821</td>\n",
       "      <td>106.394227</td>\n",
       "      <td>211.821670</td>\n",
       "      <td>154.965223</td>\n",
       "      <td>171.075788</td>\n",
       "      <td>61.107101</td>\n",
       "      <td>77.708572</td>\n",
       "      <td>148.457166</td>\n",
       "    </tr>\n",
       "    <tr>\n",
       "      <th>1</th>\n",
       "      <td>1</td>\n",
       "      <td>Sample-2</td>\n",
       "      <td>24.0</td>\n",
       "      <td>female</td>\n",
       "      <td>US</td>\n",
       "      <td>6.06</td>\n",
       "      <td>obese</td>\n",
       "      <td>71.617440</td>\n",
       "      <td>35.093902</td>\n",
       "      <td>38.339812</td>\n",
       "      <td>...</td>\n",
       "      <td>18897.145365</td>\n",
       "      <td>10796.271198</td>\n",
       "      <td>4415.402080</td>\n",
       "      <td>56.550318</td>\n",
       "      <td>200.735634</td>\n",
       "      <td>167.467197</td>\n",
       "      <td>116.656049</td>\n",
       "      <td>55.221793</td>\n",
       "      <td>75.723312</td>\n",
       "      <td>148.153760</td>\n",
       "    </tr>\n",
       "    <tr>\n",
       "      <th>2</th>\n",
       "      <td>2</td>\n",
       "      <td>Sample-3</td>\n",
       "      <td>52.0</td>\n",
       "      <td>male</td>\n",
       "      <td>US</td>\n",
       "      <td>5.50</td>\n",
       "      <td>lean</td>\n",
       "      <td>76.788552</td>\n",
       "      <td>36.468459</td>\n",
       "      <td>41.049680</td>\n",
       "      <td>...</td>\n",
       "      <td>9941.426890</td>\n",
       "      <td>2382.601913</td>\n",
       "      <td>2705.456410</td>\n",
       "      <td>35.087364</td>\n",
       "      <td>143.295196</td>\n",
       "      <td>177.587051</td>\n",
       "      <td>137.614018</td>\n",
       "      <td>36.587206</td>\n",
       "      <td>78.451328</td>\n",
       "      <td>151.829451</td>\n",
       "    </tr>\n",
       "    <tr>\n",
       "      <th>3</th>\n",
       "      <td>3</td>\n",
       "      <td>Sample-4</td>\n",
       "      <td>22.0</td>\n",
       "      <td>female</td>\n",
       "      <td>US</td>\n",
       "      <td>5.87</td>\n",
       "      <td>underweight</td>\n",
       "      <td>74.153361</td>\n",
       "      <td>35.983472</td>\n",
       "      <td>40.919850</td>\n",
       "      <td>...</td>\n",
       "      <td>1707.346473</td>\n",
       "      <td>2881.873156</td>\n",
       "      <td>575.770921</td>\n",
       "      <td>35.909907</td>\n",
       "      <td>180.882271</td>\n",
       "      <td>205.570562</td>\n",
       "      <td>115.188297</td>\n",
       "      <td>44.524188</td>\n",
       "      <td>82.810934</td>\n",
       "      <td>152.548577</td>\n",
       "    </tr>\n",
       "    <tr>\n",
       "      <th>4</th>\n",
       "      <td>4</td>\n",
       "      <td>Sample-5</td>\n",
       "      <td>25.0</td>\n",
       "      <td>female</td>\n",
       "      <td>US</td>\n",
       "      <td>5.89</td>\n",
       "      <td>lean</td>\n",
       "      <td>77.065064</td>\n",
       "      <td>37.466006</td>\n",
       "      <td>42.746629</td>\n",
       "      <td>...</td>\n",
       "      <td>32454.018243</td>\n",
       "      <td>7598.565773</td>\n",
       "      <td>16017.026792</td>\n",
       "      <td>54.862005</td>\n",
       "      <td>223.830484</td>\n",
       "      <td>174.345496</td>\n",
       "      <td>138.353411</td>\n",
       "      <td>63.445514</td>\n",
       "      <td>86.347452</td>\n",
       "      <td>156.447511</td>\n",
       "    </tr>\n",
       "  </tbody>\n",
       "</table>\n",
       "<p>5 rows × 137 columns</p>\n",
       "</div>"
      ],
      "text/plain": [
       "   Unnamed: 0  SampleID   Age     Sex Nationality  Diversity    BMI_group  \\\n",
       "0           0  Sample-1  28.0    male          US       5.76  severeobese   \n",
       "1           1  Sample-2  24.0  female          US       6.06        obese   \n",
       "2           2  Sample-3  52.0    male          US       5.50         lean   \n",
       "3           3  Sample-4  22.0  female          US       5.87  underweight   \n",
       "4           4  Sample-5  25.0  female          US       5.89         lean   \n",
       "\n",
       "   Actinomycetaceae  Aerococcus  Aeromonas  ...  \\\n",
       "0         72.018955   36.677499  42.602327  ...   \n",
       "1         71.617440   35.093902  38.339812  ...   \n",
       "2         76.788552   36.468459  41.049680  ...   \n",
       "3         74.153361   35.983472  40.919850  ...   \n",
       "4         77.065064   37.466006  42.746629  ...   \n",
       "\n",
       "   Uncultured Clostridium (sensu stricto)les I  \\\n",
       "0                                  1104.414062   \n",
       "1                                 18897.145365   \n",
       "2                                  9941.426890   \n",
       "3                                  1707.346473   \n",
       "4                                 32454.018243   \n",
       "\n",
       "   Uncultured Clostridium (sensu stricto)les II  Uncultured Mollicutes  \\\n",
       "0                                   1028.468474             521.322821   \n",
       "1                                  10796.271198            4415.402080   \n",
       "2                                   2382.601913            2705.456410   \n",
       "3                                   2881.873156             575.770921   \n",
       "4                                   7598.565773           16017.026792   \n",
       "\n",
       "   Uncultured Selenomonadaceae  Veillonella      Vibrio  Weissella et rel.  \\\n",
       "0                   106.394227   211.821670  154.965223         171.075788   \n",
       "1                    56.550318   200.735634  167.467197         116.656049   \n",
       "2                    35.087364   143.295196  177.587051         137.614018   \n",
       "3                    35.909907   180.882271  205.570562         115.188297   \n",
       "4                    54.862005   223.830484  174.345496         138.353411   \n",
       "\n",
       "   Wissella et rel.  Xanthomonadaceae  Yersinia et rel.  \n",
       "0         61.107101         77.708572        148.457166  \n",
       "1         55.221793         75.723312        148.153760  \n",
       "2         36.587206         78.451328        151.829451  \n",
       "3         44.524188         82.810934        152.548577  \n",
       "4         63.445514         86.347452        156.447511  \n",
       "\n",
       "[5 rows x 137 columns]"
      ]
     },
     "execution_count": 2,
     "metadata": {},
     "output_type": "execute_result"
    }
   ],
   "source": [
    "data_pd = pd.read_csv(\"data_cleaned.csv\")\n",
    "data_pd.head()"
   ]
  },
  {
   "cell_type": "code",
   "execution_count": 3,
   "metadata": {},
   "outputs": [],
   "source": [
    "# creates a list of dictionaries of the distributions of selected features of a selected samples of the data\n",
    "def metadata_distributions(dataframe, features = [\"Sex\", \"Nationality\", \"BMI_group\"]):\n",
    "    feature_dist = []\n",
    "    for feature in features:\n",
    "        percentages = {}\n",
    "        for group in np.unique(dataframe[feature]):\n",
    "            percentages[group] = len(\n",
    "                dataframe[dataframe[feature] == group]) / len(dataframe[feature])\n",
    "        feature_dist.append(percentages)\n",
    "    return feature_dist\n"
   ]
  },
  {
   "cell_type": "code",
   "execution_count": 4,
   "metadata": {},
   "outputs": [],
   "source": [
    "data = np.array(data_pd.values[:,7:])\n",
    "data = preprocessing.Normalizer().fit_transform(data)\n",
    "\n",
    "sex = data_pd[\"Sex\"].copy()\n",
    "sex[np.where(sex == \"male\")[0]] = 1\n",
    "sex[np.where(sex == \"female\")[0]] = 0\n"
   ]
  },
  {
   "cell_type": "markdown",
   "metadata": {},
   "source": [
    "Clustering:"
   ]
  },
  {
   "cell_type": "code",
   "execution_count": 5,
   "metadata": {},
   "outputs": [
    {
     "name": "stdout",
     "output_type": "stream",
     "text": [
      "[-1  0  1  2  3]\n",
      "[0 1 2 3]\n",
      "[0 1 2 3 4 5 6 7]\n",
      "cluster  -1  has size:  687\n",
      "cluster  0  has size:  158\n",
      "cluster  1  has size:  80\n",
      "cluster  2  has size:  55\n",
      "cluster  3  has size:  77\n",
      "cluster  4  has size:  0\n"
     ]
    }
   ],
   "source": [
    "# try eps = [0.3,0.31,0.32,0.33,0.5], min_samples = [3,4,5,10,20]. Looks nice with PCA when eps=0.3 and min_samples=20\n",
    "dbscan_clustering = DBSCAN(eps=0.3, min_samples=20)\n",
    "kmeans_4_clustering = KMeans(n_clusters=4)\n",
    "kmeans_8_clustering = KMeans(n_clusters=8)\n",
    "# dbscan_clustering = OPTICS(eps=0.3,min_samples=10) # can't find any clusters with this\n",
    "dbscan_labels = dbscan_clustering.fit_predict(data)\n",
    "kmeans_4_labels = kmeans_4_clustering.fit_predict(data)\n",
    "kmeans_8_labels = kmeans_8_clustering.fit_predict(data)\n",
    "print(np.unique(dbscan_labels))\n",
    "print(np.unique(kmeans_4_labels))\n",
    "print(np.unique(kmeans_8_labels))\n",
    "\n",
    "for i in range(-1, len(np.unique(dbscan_labels))):\n",
    "    print(\"cluster \", i, \" has size: \", len(\n",
    "        dbscan_labels[dbscan_labels == i]))\n"
   ]
  },
  {
   "cell_type": "markdown",
   "metadata": {},
   "source": [
    "Dimensionality Reduction:"
   ]
  },
  {
   "cell_type": "code",
   "execution_count": 7,
   "metadata": {},
   "outputs": [
    {
     "name": "stdout",
     "output_type": "stream",
     "text": [
      "(1057, 2)\n"
     ]
    },
    {
     "data": {
      "text/plain": [
       "<matplotlib.legend.Legend at 0x7fb67c088040>"
      ]
     },
     "execution_count": 7,
     "metadata": {},
     "output_type": "execute_result"
    },
    {
     "data": {
      "image/png": "[encoded data removed]",
      "text/plain": [
       "<Figure size 432x288 with 1 Axes>"
      ]
     },
     "metadata": {
      "needs_background": "light"
     },
     "output_type": "display_data"
    }
   ],
   "source": [
    "# for samples\n",
    "\n",
    "# with TSNE I can visually discern e.g. 8 clusters easily, with kernelPCA just 3, maybe 4\n",
    "pca_model = PCA(n_components=2)\n",
    "kernel_pca_model = KernelPCA(n_components=2, kernel=\"rbf\", gamma=4)\n",
    "tsne_model = TSNE(n_components=2, perplexity=30)\n",
    "# pca_model = KernelPCA(n_components=2, kernel=\"rbf\", gamma=10) # this one is faszinating (choose gamma 4 to 10)\n",
    "\n",
    "pca_model.fit(data)\n",
    "kernel_pca_model.fit(data)\n",
    "tsne_model.fit(data)\n",
    "pca_projected_data = pca_model.fit_transform(data)\n",
    "kernel_pca_projected_data = kernel_pca_model.fit_transform(data)\n",
    "tsne_projected_data = tsne_model.fit_transform(data)\n",
    "\n",
    "\n",
    "# print(pca_projected_data.shape)\n",
    "\n",
    "# colors = [\"lightgrey\",\"red\", \"green\", \"blue\", \"yellow\", \"magenta\", \"lightblue\", \"black\", \"brown\"]\n",
    "\n",
    "# for i, l in enumerate(np.unique(dbscan_labels)):\n",
    "#     cluster_data = projected_data[dbscan_labels==l]\n",
    "#     plt.scatter(cluster_data[:, 0], cluster_data[:, 1],\n",
    "#                 c=colors[i], label=l)\n",
    "# plt.legend()\n"
   ]
  },
  {
   "cell_type": "markdown",
   "metadata": {},
   "source": [
    "Export the cluster labels and the projected data as csv:"
   ]
  },
  {
   "cell_type": "code",
   "execution_count": 15,
   "metadata": {},
   "outputs": [],
   "source": [
    "### CLUSTER LABELS ###\n",
    "\n",
    "\n",
    "### PROJECTION LABELS ###\n",
    "\n",
    "\n",
    "### EXPORT ###\n",
    "\n",
    "data_final = np.concatenate(\n",
    "    [dbscan_labels[:, np.newaxis], kmeans_4_labels[:, np.newaxis], kmeans_8_labels[:, np.newaxis], \n",
    "    pca_projected_data, kernel_pca_projected_data, tsne_projected_data], axis=1)\n",
    "data_final = pd.DataFrame(data_final, columns=[\n",
    "                          \"dbscan\", \"kmeans_4\", \"kmeans_8\", \"x_pca\", \"y_pca\", \"x_kernel_pca\", \"y_kernel_pca\", \"x_tsne\", \"y_tsne\"])\n",
    "# data_final = pd.DataFrame(data_final, columns=[\"cluster\", \"x\", \"y\"])\n",
    "data_final[[\"dbscan\",\"kmeans_4\", \"kmeans_8\"]] = data_final[[\"dbscan\",\"kmeans_4\", \"kmeans_8\"]].astype(int)\n",
    "# data_final[\"cluster\"] = data_final[\"cluster\"].astype(int)\n",
    "data_final.to_csv(\"cluster_data.csv\",sep=\",\")\n",
    "# data_final.head()\n"
   ]
  },
  {
   "cell_type": "code",
   "execution_count": null,
   "metadata": {},
   "outputs": [],
   "source": [
    "### FOR THE OLD DATASET ###\n",
    "\n",
    "# data_final = np.concatenate(\n",
    "#     [dbscan_labels[:, np.newaxis], projected_data], axis=1)\n",
    "# data_final = pd.DataFrame(data_final, columns=[\"cluster\", \"x\", \"y\"])\n",
    "# data_final[\"cluster\"] = data_final[\"cluster\"].astype(int)\n",
    "# data_final.to_csv(\"cluster_data.csv\", sep=\",\")\n"
   ]
  },
  {
   "cell_type": "code",
   "execution_count": 7,
   "metadata": {},
   "outputs": [
    {
     "name": "stdout",
     "output_type": "stream",
     "text": [
      "[0.4607379375591296, 0.020813623462630087, 0.2119205298013245, 0.1901608325449385, 0.0946073793755913, 0.021759697256385997]\n"
     ]
    }
   ],
   "source": [
    "print(list(metadata_distributions(data_pd)[2].values()))"
   ]
  },
  {
   "cell_type": "code",
   "execution_count": 8,
   "metadata": {},
   "outputs": [
    {
     "name": "stdout",
     "output_type": "stream",
     "text": [
      "Distributions of all data:  [{'female': 0.6111636707663197, 'male': 0.3888363292336802}, {'CentralEurope': 0.5837275307473982, 'EasternEurope': 0.000946073793755913, 'Scandinavia': 0.26017029328287605, 'SouthEurope': 0.08514664143803216, 'UKIE': 0.03784295175023652, 'US': 0.03216650898770104}, {'lean': 0.4607379375591296, 'morbidobese': 0.020813623462630087, 'obese': 0.2119205298013245, 'overweight': 0.1901608325449385, 'severeobese': 0.0946073793755913, 'underweight': 0.021759697256385997}]\n",
      "Distributions of cluster  0 :  [{'female': 0.61875, 'male': 0.38125}, {'CentralEurope': 0.33125, 'Scandinavia': 0.49375, 'SouthEurope': 0.11875, 'UKIE': 0.04375, 'US': 0.0125}, {'lean': 0.525, 'obese': 0.125, 'overweight': 0.25, 'severeobese': 0.05, 'underweight': 0.05}]\n"
     ]
    },
    {
     "data": {
      "image/png": "[encoded data removed]",
      "text/plain": [
       "<Figure size 432x288 with 1 Axes>"
      ]
     },
     "metadata": {
      "needs_background": "light"
     },
     "output_type": "display_data"
    },
    {
     "name": "stdout",
     "output_type": "stream",
     "text": [
      "Distributions of cluster  1 :  [{'female': 0.48333333333333334, 'male': 0.5166666666666667}, {'CentralEurope': 0.7388888888888889, 'Scandinavia': 0.16111111111111112, 'SouthEurope': 0.05, 'UKIE': 0.027777777777777776, 'US': 0.022222222222222223}, {'lean': 0.4444444444444444, 'morbidobese': 0.03888888888888889, 'obese': 0.3, 'overweight': 0.08333333333333333, 'severeobese': 0.11666666666666667, 'underweight': 0.016666666666666666}]\n"
     ]
    },
    {
     "data": {
      "image/png": "[encoded data removed]",
      "text/plain": [
       "<Figure size 432x288 with 1 Axes>"
      ]
     },
     "metadata": {
      "needs_background": "light"
     },
     "output_type": "display_data"
    },
    {
     "name": "stdout",
     "output_type": "stream",
     "text": [
      "Distributions of cluster  2 :  [{'female': 0.6062176165803109, 'male': 0.39378238341968913}, {'CentralEurope': 0.772020725388601, 'Scandinavia': 0.10362694300518134, 'SouthEurope': 0.08290155440414508, 'UKIE': 0.03626943005181347, 'US': 0.0051813471502590676}, {'lean': 0.43523316062176165, 'morbidobese': 0.02072538860103627, 'obese': 0.26424870466321243, 'overweight': 0.15544041450777202, 'severeobese': 0.10880829015544041, 'underweight': 0.015544041450777202}]\n"
     ]
    },
    {
     "data": {
      "image/png": "[encoded data removed]",
      "text/plain": [
       "<Figure size 432x288 with 1 Axes>"
      ]
     },
     "metadata": {
      "needs_background": "light"
     },
     "output_type": "display_data"
    },
    {
     "name": "stdout",
     "output_type": "stream",
     "text": [
      "Distributions of cluster  3 :  [{'female': 0.5609756097560976, 'male': 0.43902439024390244}, {'CentralEurope': 0.5121951219512195, 'Scandinavia': 0.2926829268292683, 'SouthEurope': 0.036585365853658534, 'UKIE': 0.12195121951219512, 'US': 0.036585365853658534}, {'lean': 0.43902439024390244, 'morbidobese': 0.012195121951219513, 'obese': 0.2073170731707317, 'overweight': 0.2682926829268293, 'severeobese': 0.036585365853658534, 'underweight': 0.036585365853658534}]\n"
     ]
    },
    {
     "data": {
      "image/png": "[encoded data removed]",
      "text/plain": [
       "<Figure size 432x288 with 1 Axes>"
      ]
     },
     "metadata": {
      "needs_background": "light"
     },
     "output_type": "display_data"
    },
    {
     "name": "stdout",
     "output_type": "stream",
     "text": [
      "Distributions of cluster  4 :  [{'female': 0.6477272727272727, 'male': 0.3522727272727273}, {'CentralEurope': 0.3181818181818182, 'EasternEurope': 0.011363636363636364, 'Scandinavia': 0.45454545454545453, 'SouthEurope': 0.14772727272727273, 'UKIE': 0.011363636363636364, 'US': 0.056818181818181816}, {'lean': 0.5, 'obese': 0.18181818181818182, 'overweight': 0.20454545454545456, 'severeobese': 0.09090909090909091, 'underweight': 0.022727272727272728}]\n"
     ]
    },
    {
     "data": {
      "image/png": "[encoded data removed]",
      "text/plain": [
       "<Figure size 432x288 with 1 Axes>"
      ]
     },
     "metadata": {
      "needs_background": "light"
     },
     "output_type": "display_data"
    },
    {
     "name": "stdout",
     "output_type": "stream",
     "text": [
      "Distributions of cluster  5 :  [{'female': 0.7047619047619048, 'male': 0.29523809523809524}, {'CentralEurope': 0.8571428571428571, 'Scandinavia': 0.02857142857142857, 'SouthEurope': 0.0380952380952381, 'UKIE': 0.009523809523809525, 'US': 0.06666666666666667}, {'lean': 0.24761904761904763, 'morbidobese': 0.08571428571428572, 'obese': 0.3142857142857143, 'overweight': 0.12380952380952381, 'severeobese': 0.22857142857142856}]\n"
     ]
    },
    {
     "data": {
      "image/png": "[encoded data removed]",
      "text/plain": [
       "<Figure size 432x288 with 1 Axes>"
      ]
     },
     "metadata": {
      "needs_background": "light"
     },
     "output_type": "display_data"
    },
    {
     "name": "stdout",
     "output_type": "stream",
     "text": [
      "Distributions of cluster  6 :  [{'female': 0.7011494252873564, 'male': 0.2988505747126437}, {'CentralEurope': 0.4942528735632184, 'Scandinavia': 0.3103448275862069, 'SouthEurope': 0.10344827586206896, 'UKIE': 0.022988505747126436, 'US': 0.06896551724137931}, {'lean': 0.4827586206896552, 'morbidobese': 0.011494252873563218, 'obese': 0.14942528735632185, 'overweight': 0.26436781609195403, 'severeobese': 0.06896551724137931, 'underweight': 0.022988505747126436}]\n"
     ]
    },
    {
     "data": {
      "image/png": "[encoded data removed]",
      "text/plain": [
       "<Figure size 432x288 with 1 Axes>"
      ]
     },
     "metadata": {
      "needs_background": "light"
     },
     "output_type": "display_data"
    },
    {
     "name": "stdout",
     "output_type": "stream",
     "text": [
      "Distributions of cluster  7 :  [{'female': 0.6666666666666666, 'male': 0.3333333333333333}, {'CentralEurope': 0.5432098765432098, 'Scandinavia': 0.2222222222222222, 'SouthEurope': 0.13580246913580246, 'UKIE': 0.024691358024691357, 'US': 0.07407407407407407}, {'lean': 0.6172839506172839, 'obese': 0.1111111111111111, 'overweight': 0.19753086419753085, 'severeobese': 0.06172839506172839, 'underweight': 0.012345679012345678}]\n"
     ]
    },
    {
     "data": {
      "image/png": "[encoded data removed]",
      "text/plain": [
       "<Figure size 432x288 with 1 Axes>"
      ]
     },
     "metadata": {
      "needs_background": "light"
     },
     "output_type": "display_data"
    },
    {
     "name": "stdout",
     "output_type": "stream",
     "text": [
      "Distributions of cluster  8 :  [{'female': 0.6296296296296297, 'male': 0.37037037037037035}, {'CentralEurope': 0.43209876543209874, 'Scandinavia': 0.43209876543209874, 'SouthEurope': 0.07407407407407407, 'UKIE': 0.06172839506172839}, {'lean': 0.5061728395061729, 'obese': 0.13580246913580246, 'overweight': 0.2962962962962963, 'severeobese': 0.04938271604938271, 'underweight': 0.012345679012345678}]\n"
     ]
    },
    {
     "data": {
      "image/png": "[encoded data removed]",
      "text/plain": [
       "<Figure size 432x288 with 1 Axes>"
      ]
     },
     "metadata": {
      "needs_background": "light"
     },
     "output_type": "display_data"
    }
   ],
   "source": [
    "print(\"Distributions of all data: \", metadata_distributions(data_pd))\n",
    "\n",
    "for i,l in enumerate(np.unique(dbscan_labels)):\n",
    "    idx = np.where(dbscan_labels == l)[0]\n",
    "    selection = data_pd.iloc[idx]\n",
    "    print(\"Distributions of cluster \", i, \": \", metadata_distributions(selection))\n",
    "    plt.bar(metadata_distributions(selection)[\n",
    "            2].keys(), metadata_distributions(selection)[2].values())\n",
    "    plt.show()\n",
    "\n"
   ]
  },
  {
   "cell_type": "code",
   "execution_count": null,
   "metadata": {},
   "outputs": [],
   "source": []
  },
  {
   "cell_type": "code",
   "execution_count": null,
   "metadata": {},
   "outputs": [],
   "source": []
  },
  {
   "cell_type": "code",
   "execution_count": null,
   "metadata": {},
   "outputs": [],
   "source": []
  },
  {
   "cell_type": "code",
   "execution_count": 126,
   "metadata": {},
   "outputs": [
    {
     "name": "stdout",
     "output_type": "stream",
     "text": [
      "(1057, 2)\n"
     ]
    },
    {
     "data": {
      "text/plain": [
       "<matplotlib.collections.PathCollection at 0x7ff56db8ed00>"
      ]
     },
     "execution_count": 126,
     "metadata": {},
     "output_type": "execute_result"
    },
    {
     "data": {
      "image/png": "[encoded data removed]",
      "text/plain": [
       "<Figure size 432x288 with 1 Axes>"
      ]
     },
     "metadata": {
      "needs_background": "light"
     },
     "output_type": "display_data"
    }
   ],
   "source": [
    "# now for bacteria\n",
    "data = data.T\n",
    "\n",
    "pca_model = PCA(n_components=2)\n",
    "pca_model.fit(data)\n",
    "\n",
    "projected_data = pca_model.transform(data)\n",
    "\n",
    "print(projected_data.shape)\n",
    "\n",
    "\n",
    "plt.scatter(projected_data[:, 0], projected_data[:, 1])\n"
   ]
  },
  {
   "cell_type": "code",
   "execution_count": null,
   "metadata": {},
   "outputs": [],
   "source": []
  },
  {
   "cell_type": "code",
   "execution_count": null,
   "metadata": {},
   "outputs": [],
   "source": []
  }
 ],
 "metadata": {
  "interpreter": {
   "hash": "ae33c44578fb332de0df8b711d530a9dd97dca052e4258de25e8235d5a71a8c4"
  },
  "kernelspec": {
   "display_name": "",
   "language": "python",
   "name": "python3"
  },
  "language_info": {
   "codemirror_mode": {
    "name": "ipython",
    "version": 3
   },
   "file_extension": ".py",
   "mimetype": "text/x-python",
   "name": "python",
   "nbconvert_exporter": "python",
   "pygments_lexer": "ipython3",
   "version": "3.8.10"
  },
  "orig_nbformat": 4
 },
 "nbformat": 4,
 "nbformat_minor": 2
}
