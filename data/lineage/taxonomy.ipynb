{
 "cells": [
  {
   "cell_type": "markdown",
   "id": "bd583db4",
   "metadata": {},
   "source": [
    "### Imports:"
   ]
  },
  {
   "cell_type": "code",
   "execution_count": 1,
   "id": "255f1d60",
   "metadata": {},
   "outputs": [],
   "source": [
    "from taxonomy_ranks import TaxonomyRanks\n",
    "import numpy as np\n",
    "import pandas as pd"
   ]
  },
  {
   "cell_type": "markdown",
   "id": "601aa835",
   "metadata": {},
   "source": [
    "Load the cleaned data and extract the taxa names:"
   ]
  },
  {
   "cell_type": "code",
   "execution_count": 2,
   "id": "fa833996",
   "metadata": {},
   "outputs": [],
   "source": [
    "data = pd.read_csv(\"../data_cleaned.csv\")\n",
    "taxa_names = data.columns[7:].values.copy()"
   ]
  },
  {
   "cell_type": "markdown",
   "id": "e3b48018",
   "metadata": {},
   "source": [
    "### Inspection Script:\n",
    "Inspects the taxa names. Specifically looking for:\n",
    "- ambiguous IDs\n",
    "- missing names"
   ]
  },
  {
   "cell_type": "code",
   "execution_count": 3,
   "id": "81792ea7",
   "metadata": {},
   "outputs": [],
   "source": [
    "ranks = ('phylum', 'class', 'order', 'family', 'genus')\n",
    "\n",
    "def inspect_taxa_names(taxa_names):\n",
    "    \"\"\"\n",
    "    Inspect the taxa names for potential issues such as ambiguous IDs, missing names, or misspellings.\n",
    "\n",
    "    Parameters:\n",
    "    taxa_names (array-like): An array of taxa names to inspect.\n",
    "\n",
    "    Returns:\n",
    "    np.ndarray: An array containing the lineage data for the taxa names.\n",
    "    \"\"\"\n",
    "    \n",
    "    # prepare a counter and list for ambiguous ids\n",
    "    several_ids_counter = 0\n",
    "    several_ids_names = []\n",
    "\n",
    "    # prepare a counter and lists for missing taxa\n",
    "    missing_counter = 0\n",
    "    missing_names = []\n",
    "    missing_indices = []\n",
    "\n",
    "    # empty array prepared for final data\n",
    "    my_data = np.array([])\n",
    "\n",
    "    # loop through all taxa names, find their lineage, fill taxa_names_cleaned with lineage\n",
    "    for i in range(len(taxa_names)):\n",
    "        rank_taxon = TaxonomyRanks(taxa_names[i])\n",
    "        \n",
    "        # if it doesn't find the taxid it throws an error, in which case we catch it\n",
    "        # and remember the taxon name to look it up online later\n",
    "        try: \n",
    "            # find all ids and names\n",
    "            rank_taxon.get_lineage_taxids_and_taxanames()\n",
    "            \n",
    "            # remember those taxa names for which several ids were found\n",
    "            potential_taxids = rank_taxon.potential_taxids\n",
    "            if len(potential_taxids) > 1:\n",
    "                several_ids_counter += 1\n",
    "                several_ids_names.append(taxa_names[i])\n",
    "            \n",
    "            # add the current ranks to the final data\n",
    "            curr_data = []\n",
    "            for j, rank in enumerate(ranks):\n",
    "                rank_name = rank_taxon.lineages[str(potential_taxids[0])][rank]\n",
    "                curr_data.append(rank_name[0])\n",
    "            curr_data = np.array(curr_data)[np.newaxis, :]\n",
    "            if my_data.size == 0:\n",
    "                my_data = curr_data\n",
    "            else: \n",
    "                my_data = np.concatenate([my_data,curr_data], axis=0)\n",
    "\n",
    "        except:\n",
    "            # if the taxon wasn't found, remember it to later look it up online\n",
    "            missing_counter += 1\n",
    "            missing_names.append(taxa_names[i])\n",
    "            missing_indices.append(i)\n",
    "\n",
    "\n",
    "    print(\"\\n\", several_ids_counter,\n",
    "        \" of the \", len(taxa_names), \" taxa had several ids.\")\n",
    "    print(\"Namely: \", several_ids_names)\n",
    "\n",
    "    print(\"\\n Couldn't find: \", missing_counter,\n",
    "        \" of the \", len(taxa_names), \" taxa.\")\n",
    "    print(\"Namely: \", missing_names)\n",
    "    print(\"At indices: \", missing_indices)\n",
    "\n",
    "\n",
    "    print(\"\\n Make sure that these dimensions match!\")\n",
    "    print(\"my_data.shape: \", my_data.shape[0])\n",
    "    print(\"taxa_names.shape: \", taxa_names.shape[0])\n",
    "\n",
    "    return my_data"
   ]
  },
  {
   "cell_type": "code",
   "execution_count": 4,
   "id": "08848ac4",
   "metadata": {},
   "outputs": [
    {
     "name": "stdout",
     "output_type": "stream",
     "text": [
      "\n",
      " 5  of the  130  taxa had several ids.\n",
      "Namely:  ['Bacillus', 'Fusobacteria', 'Proteus et rel.', 'Serratia', 'Yersinia et rel.']\n",
      "\n",
      " Couldn't find:  10  of the  130  taxa.\n",
      "Namely:  ['Allistipes et rel.', 'Klebisiella pneumoniae et rel.', 'Lachnobacillus bovis et rel.', 'Outgrouping clostridium cluster XIVa', 'Uncultured Chroococcales', 'Uncultured Clostridium (sensu stricto)les I', 'Uncultured Clostridium (sensu stricto)les II', 'Uncultured Mollicutes', 'Uncultured Selenomonadaceae', 'Wissella et rel.']\n",
      "At indices:  [5, 70, 71, 88, 119, 120, 121, 122, 123, 127]\n",
      "\n",
      " Make sure that these dimensions match!\n",
      "my_data.shape:  120\n",
      "taxa_names.shape:  130\n"
     ]
    }
   ],
   "source": [
    "_ = inspect_taxa_names(taxa_names)"
   ]
  },
  {
   "cell_type": "markdown",
   "id": "afb09be5",
   "metadata": {},
   "source": [
    "### Manual Inspection:\n",
    "I compared both the ambiguous and the missing IDs via https://www.ncbi.nlm.nih.gov/Taxonomy/Browser/wwwtax.cgi\n",
    "1. I looked up the ambiguous IDs ('Bacillus', 'Fusobacteria', 'Proteus et rel.', 'Serratia', 'Yersinia et rel.'). I found the ambiguity to derive from large animals with similar rank names, the default ID (0) however is right in all cases.\n",
    "\n",
    "2. The missing names were misspelled, had unclear assignments, or were names of higher ranks with no genus in the database. I changed them in the following by manual imputation:"
   ]
  },
  {
   "cell_type": "code",
   "execution_count": 5,
   "id": "8a4f4fb5",
   "metadata": {},
   "outputs": [],
   "source": [
    "# misspelled:\n",
    "taxa_names[5] = \"Alistipes\"\n",
    "taxa_names[70] = \"Klebsiella pneumoniae\"\n",
    "taxa_names[71] = \"Lachnobacterium bovis\"\n",
    "taxa_names[119] = \"uncultured Chlorococcales\"\n",
    "taxa_names[127] = \"Weissella\"\n",
    "# The following: 'Outgrouping clostridium cluster XIVa','Uncultured Clostridium (sensu stricto)les I', 'Uncultured Clostridium (sensu stricto)les II'\n",
    "# had no match. I decided to replace them all by \"Clostridium\". This leaves us with redundant naming, which however is no problem.\n",
    "taxa_names[88] = \"Clostridium\"\n",
    "taxa_names[120] = \"Clostridium\"\n",
    "taxa_names[121] = \"Clostridium\"\n",
    "# The following are names of higher ranks with no genus\n",
    "taxa_names[122] = \"Mollicutes\" # original: \"Uncultured Mollicutes\" - I imputed from the class rank\n",
    "taxa_names[123] = \"Selenomonadaceae\" # original: \"Uncultured Selenomonodaceae\" - I imputed from the family rank\n"
   ]
  },
  {
   "cell_type": "code",
   "execution_count": 6,
   "id": "f812f402",
   "metadata": {},
   "outputs": [
    {
     "name": "stdout",
     "output_type": "stream",
     "text": [
      "\n",
      " 5  of the  130  taxa had several ids.\n",
      "Namely:  ['Bacillus', 'Fusobacteria', 'Proteus et rel.', 'Serratia', 'Yersinia et rel.']\n",
      "\n",
      " Couldn't find:  0  of the  130  taxa.\n",
      "Namely:  []\n",
      "At indices:  []\n",
      "\n",
      " Make sure that these dimensions match!\n",
      "my_data.shape:  130\n",
      "taxa_names.shape:  130\n"
     ]
    }
   ],
   "source": [
    "taxa_names_cleaned = inspect_taxa_names(taxa_names)"
   ]
  },
  {
   "cell_type": "markdown",
   "id": "89828c7b",
   "metadata": {},
   "source": [
    "The kingdom column was entirely empty, so it was omitted from ranks.\\\n",
    "Species were never recognized, so I imputed the original uncorrected names for compatibility \n",
    "with the main dataset (data_cleaned.csv).\\\n",
    "The following ranks were used: **phylum, class, order, family, genus, species**."
   ]
  },
  {
   "cell_type": "code",
   "execution_count": 7,
   "id": "0cd27c22",
   "metadata": {},
   "outputs": [],
   "source": [
    "ranks = list(ranks)\n",
    "ranks.append(\"species\")\n",
    "species = data.columns[7:].values[:, np.newaxis]\n",
    "taxa_names_cleaned = np.hstack([taxa_names_cleaned,species])"
   ]
  },
  {
   "cell_type": "markdown",
   "id": "b9ccc902",
   "metadata": {},
   "source": [
    "The following code checks in which rows / for which bacteria some of the ranks are missing:"
   ]
  },
  {
   "cell_type": "code",
   "execution_count": 8,
   "id": "3ac5c755",
   "metadata": {},
   "outputs": [
    {
     "name": "stdout",
     "output_type": "stream",
     "text": [
      "Indices of incomplete rows:  [  0  12  65  82  84 118 119 122 123 128]\n",
      "Incomplete rows:  [['Actinomycetota' 'Actinomycetes' 'Actinomycetales' 'Actinomycetaceae'\n",
      "  'NA' 'Actinomycetaceae']\n",
      " ['Pseudomonadota' 'Betaproteobacteria' 'Burkholderiales' 'NA'\n",
      "  'Aquabacterium' 'Aquabacterium']\n",
      " ['Fusobacteriota' 'NA' 'NA' 'NA' 'NA' 'Fusobacteria']\n",
      " ['Actinomycetota' 'Actinomycetes' 'Micrococcales' 'Micrococcaceae' 'NA'\n",
      "  'Micrococcaceae']\n",
      " ['Pseudomonadota' 'Gammaproteobacteria' 'Moraxellales' 'Moraxellaceae'\n",
      "  'NA' 'Moraxellaceae']\n",
      " ['Bacteroidota' 'NA' 'NA' 'NA' 'NA' 'Uncultured Bacteroidetes']\n",
      " ['Chlorophyta' 'Chlorophyceae' 'Chlamydomonadales' 'NA' 'NA'\n",
      "  'Uncultured Chroococcales']\n",
      " ['Mycoplasmatota' 'Mollicutes' 'NA' 'NA' 'NA' 'Uncultured Mollicutes']\n",
      " ['Bacillota' 'Negativicutes' 'Selenomonadales' 'Selenomonadaceae' 'NA'\n",
      "  'Uncultured Selenomonadaceae']\n",
      " ['Pseudomonadota' 'Gammaproteobacteria' 'Lysobacterales'\n",
      "  'Lysobacteraceae' 'NA' 'Xanthomonadaceae']]\n"
     ]
    }
   ],
   "source": [
    "def incomplete_rows(input_data):\n",
    "    \"\"\"\n",
    "    Check which rows in the input data are incomplete (i.e., contain 'NA').\n",
    "\n",
    "    Parameters:\n",
    "    input_data (np.ndarray): The input data array to check for incomplete rows.\n",
    "\n",
    "    Returns:\n",
    "    None\n",
    "    \"\"\"\n",
    "    input_data = input_data.copy()\n",
    "    incomplete_rows = np.unique(np.where(input_data == 'NA')[0])\n",
    "    print(\"Indices of incomplete rows: \", incomplete_rows)\n",
    "    print(\"Incomplete rows: \", input_data[incomplete_rows])\n",
    "\n",
    "incomplete_rows(taxa_names_cleaned)"
   ]
  },
  {
   "cell_type": "markdown",
   "id": "cb3edd5b",
   "metadata": {},
   "source": [
    "Missing Rank Imputation:\\\n",
    "For any row that some rank is missing, I manually impute the missing rank with the previous (not missing) rank:"
   ]
  },
  {
   "cell_type": "code",
   "execution_count": 9,
   "id": "8fa49746",
   "metadata": {},
   "outputs": [
    {
     "name": "stdout",
     "output_type": "stream",
     "text": [
      "\n",
      " phylum  has  11  unique columns.\n",
      "\n",
      " class  has  18  unique columns.\n",
      "\n",
      " order  has  37  unique columns.\n",
      "\n",
      " family  has  62  unique columns.\n",
      "\n",
      " genus  has  88  unique columns.\n",
      "\n",
      " species  has  130  unique columns.\n",
      "Indices of incomplete rows:  []\n",
      "Incomplete rows:  []\n"
     ]
    }
   ],
   "source": [
    "# impute genus with family\n",
    "taxa_names_cleaned[0][4] = taxa_names_cleaned[0][3]\n",
    "taxa_names_cleaned[82][4] = taxa_names_cleaned[82][3]\n",
    "taxa_names_cleaned[84][4] = taxa_names_cleaned[84][3]\n",
    "taxa_names_cleaned[123][4] = taxa_names_cleaned[123][3]\n",
    "taxa_names_cleaned[128][4] = taxa_names_cleaned[128][3]\n",
    "#impute family with genus\n",
    "taxa_names_cleaned[12][3] = taxa_names_cleaned[12][4]\n",
    "taxa_names_cleaned[66][3] = taxa_names_cleaned[66][4]\n",
    "# impute everything with the phylum\n",
    "taxa_names_cleaned[65][1] = taxa_names_cleaned[65][0]\n",
    "taxa_names_cleaned[65][2] = taxa_names_cleaned[65][0]\n",
    "taxa_names_cleaned[65][3] = taxa_names_cleaned[65][0]\n",
    "taxa_names_cleaned[65][4] = taxa_names_cleaned[65][0]\n",
    "taxa_names_cleaned[118][1] = taxa_names_cleaned[118][0]\n",
    "taxa_names_cleaned[118][2] = taxa_names_cleaned[118][0]\n",
    "taxa_names_cleaned[118][3] = taxa_names_cleaned[118][0]\n",
    "taxa_names_cleaned[118][4] = taxa_names_cleaned[118][0]\n",
    "# impute family and genus with order\n",
    "taxa_names_cleaned[119][3] = taxa_names_cleaned[119][2]\n",
    "taxa_names_cleaned[119][4] = taxa_names_cleaned[119][2]\n",
    "#impute order,family and genus with class\n",
    "taxa_names_cleaned[122][2] = taxa_names_cleaned[122][1]\n",
    "taxa_names_cleaned[122][3] = taxa_names_cleaned[122][1]\n",
    "taxa_names_cleaned[122][4] = taxa_names_cleaned[122][1]\n",
    "\n",
    "\n",
    "# print how many categories of each rank are present in the data\n",
    "for i, rank in enumerate(ranks):\n",
    "    print(\"\\n\", rank, \" has \", len(\n",
    "        np.unique(taxa_names_cleaned[:, i])), \" unique columns.\")\n",
    "\n",
    "# check if there are any incomplete rows left\n",
    "incomplete_rows(taxa_names_cleaned)"
   ]
  },
  {
   "cell_type": "markdown",
   "id": "27c7178a",
   "metadata": {},
   "source": [
    "### Export the final lineage dataset and update data_cleaned with these changes:"
   ]
  },
  {
   "cell_type": "code",
   "execution_count": 10,
   "id": "0b420a10",
   "metadata": {},
   "outputs": [
    {
     "name": "stdout",
     "output_type": "stream",
     "text": [
      "              phylum                class               order  \\\n",
      "0     Actinomycetota        Actinomycetes     Actinomycetales   \n",
      "1          Bacillota              Bacilli     Lactobacillales   \n",
      "2     Pseudomonadota  Gammaproteobacteria       Aeromonadales   \n",
      "3  Verrucomicrobiota     Verrucomicrobiia  Verrucomicrobiales   \n",
      "4     Pseudomonadota   Betaproteobacteria     Burkholderiales   \n",
      "\n",
      "             family             genus                       species  \n",
      "0  Actinomycetaceae  Actinomycetaceae              Actinomycetaceae  \n",
      "1     Aerococcaceae        Aerococcus                    Aerococcus  \n",
      "2    Aeromonadaceae         Aeromonas                     Aeromonas  \n",
      "3   Akkermansiaceae       Akkermansia                   Akkermansia  \n",
      "4    Alcaligenaceae       Alcaligenes  Alcaligenes faecalis et rel.  \n"
     ]
    }
   ],
   "source": [
    "# If all checks are passed, we can merge the data with the ranks\n",
    "lineage_data = pd.DataFrame(data=taxa_names_cleaned, columns = ranks)\n",
    "print(lineage_data.head())\n",
    "\n",
    "# export it as csv\n",
    "# lineage_data.to_csv(\"lineage_data.csv\", sep=',')"
   ]
  },
  {
   "cell_type": "code",
   "execution_count": 11,
   "id": "1eb68359",
   "metadata": {},
   "outputs": [
    {
     "name": "stdout",
     "output_type": "stream",
     "text": [
      "   index  SampleID   Age     Sex Nationality  Diversity    BMI_group  \\\n",
      "0      0  Sample-1  28.0    male          US       5.76  severeobese   \n",
      "1      1  Sample-2  24.0  female          US       6.06        obese   \n",
      "2      2  Sample-3  52.0    male          US       5.50         lean   \n",
      "3      3  Sample-4  22.0  female          US       5.87  underweight   \n",
      "4      4  Sample-5  25.0  female          US       5.89         lean   \n",
      "\n",
      "   Actinomycetaceae  Aerococcus  Aeromonas  ...   Clostridium   Clostridium  \\\n",
      "0         72.018955   36.677499  42.602327  ...   1104.414062   1028.468474   \n",
      "1         71.617440   35.093902  38.339812  ...  18897.145365  10796.271198   \n",
      "2         76.788552   36.468459  41.049680  ...   9941.426890   2382.601913   \n",
      "3         74.153361   35.983472  40.919850  ...   1707.346473   2881.873156   \n",
      "4         77.065064   37.466006  42.746629  ...  32454.018243   7598.565773   \n",
      "\n",
      "     Mollicutes  Selenomonadaceae  Veillonella      Vibrio   Weissella  \\\n",
      "0    521.322821        106.394227   211.821670  154.965223  171.075788   \n",
      "1   4415.402080         56.550318   200.735634  167.467197  116.656049   \n",
      "2   2705.456410         35.087364   143.295196  177.587051  137.614018   \n",
      "3    575.770921         35.909907   180.882271  205.570562  115.188297   \n",
      "4  16017.026792         54.862005   223.830484  174.345496  138.353411   \n",
      "\n",
      "   Weissella  Lysobacteraceae    Yersinia  \n",
      "0  61.107101        77.708572  148.457166  \n",
      "1  55.221793        75.723312  148.153760  \n",
      "2  36.587206        78.451328  151.829451  \n",
      "3  44.524188        82.810934  152.548577  \n",
      "4  63.445514        86.347452  156.447511  \n",
      "\n",
      "[5 rows x 137 columns]\n"
     ]
    }
   ],
   "source": [
    "# Change the names in the main dataset as well:\n",
    "data.columns = np.hstack([data.columns[:7], taxa_names_cleaned[:, 4]]) \n",
    "print(data.head())\n",
    "\n",
    "# export to data_cleaned.csv\n",
    "# data.to_csv(\"../data_cleaned.csv\", sep=',', index=False)"
   ]
  }
 ],
 "metadata": {
  "kernelspec": {
   "display_name": "flaskenv",
   "language": "python",
   "name": "python3"
  },
  "language_info": {
   "codemirror_mode": {
    "name": "ipython",
    "version": 3
   },
   "file_extension": ".py",
   "mimetype": "text/x-python",
   "name": "python",
   "nbconvert_exporter": "python",
   "pygments_lexer": "ipython3",
   "version": "3.11.13"
  }
 },
 "nbformat": 4,
 "nbformat_minor": 5
}
